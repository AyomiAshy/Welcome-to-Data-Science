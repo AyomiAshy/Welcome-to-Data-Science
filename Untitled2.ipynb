{
  "nbformat": 4,
  "nbformat_minor": 0,
  "metadata": {
    "colab": {
      "provenance": [],
      "authorship_tag": "ABX9TyPdeV5AACleGnwtiUTgCoT0",
      "include_colab_link": true
    },
    "kernelspec": {
      "name": "python3",
      "display_name": "Python 3"
    },
    "language_info": {
      "name": "python"
    }
  },
  "cells": [
    {
      "cell_type": "markdown",
      "metadata": {
        "id": "view-in-github",
        "colab_type": "text"
      },
      "source": [
        "<a href=\"https://colab.research.google.com/github/AyomiAshy/Welcome-to-Data-Science/blob/main/Untitled2.ipynb\" target=\"_parent\"><img src=\"https://colab.research.google.com/assets/colab-badge.svg\" alt=\"Open In Colab\"/></a>"
      ]
    },
    {
      "cell_type": "code",
      "execution_count": 2,
      "metadata": {
        "colab": {
          "base_uri": "https://localhost:8080/"
        },
        "id": "YCyeF5lmLG4Q",
        "outputId": "6510d92b-87f8-4c8d-936e-9e71a4c6d42b"
      },
      "outputs": [
        {
          "output_type": "stream",
          "name": "stdout",
          "text": [
            "[(b'James', 5, 4.2) (b'Peter', 9, 5.1) (b'Ibrahim', 9, 5.7)\n",
            " (b'Ayomide', 9, 5.8) (b'Anthonio', 7, 5.9)]\n"
          ]
        }
      ],
      "source": [
        "import numpy as np\n",
        "# Create an array with student details\n",
        "student_details = [('name', 'S15'), ('Grade', int), ('Height', float)]\n",
        "student_data = [('James',5,4.2), ('Peter',9,5.1,), ('Ibrahim',9,5.7,), ('Ayomide',9,5.8,), ('Anthonio',7,5.9,)]\n",
        "student_structured_data = np.array(student_data, dtype=student_details)\n",
        "# Sort the students according to their heights\n",
        "student_data_sorted = np.sort(student_structured_data, order='Height')\n",
        "print(student_data_sorted)"
      ]
    }
  ]
}